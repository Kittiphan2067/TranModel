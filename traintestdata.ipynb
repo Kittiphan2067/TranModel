{
 "cells": [
  {
   "cell_type": "code",
   "execution_count": 69,
   "metadata": {},
   "outputs": [],
   "source": [
    "import os\n",
    "import cv2\n",
    "import pickle\n",
    "import base64\n",
    "import csv\n",
    "import numpy as np\n",
    "import requests\n",
    "import pandas as pd\n",
    "\n",
    "train_dir = r'Cars Dataset\\train'\n",
    "test_dir = r'Cars Dataset\\test'\n",
    "Dataset = r'Cars Dataset'"
   ]
  },
  {
   "cell_type": "code",
   "execution_count": 70,
   "metadata": {},
   "outputs": [
    {
     "name": "stdout",
     "output_type": "stream",
     "text": [
      "List file in Cars Dataset: ['test', 'train']\n",
      "List file in test: ['Audi', 'Hyundai Creta', 'Mahindra Scorpio', 'Rolls Royce', 'Swift', 'Tata Safari', 'Toyota Innova']\n",
      "List file in train: ['Audi', 'Hyundai Creta', 'Mahindra Scorpio', 'Rolls Royce', 'Swift', 'Tata Safari', 'Toyota Innova']\n"
     ]
    }
   ],
   "source": [
    "data_set = os.listdir(Dataset)\n",
    "print(\"List file in Cars Dataset:\", data_set)\n",
    "\n",
    "# Show all list file in test\n",
    "test_files = os.listdir(test_dir)\n",
    "print(\"List file in test:\", test_files)\n",
    "\n",
    "# Show all list file in train\n",
    "train_files = os.listdir(train_dir)\n",
    "print(\"List file in train:\", train_files)"
   ]
  },
  {
   "cell_type": "code",
   "execution_count": 71,
   "metadata": {},
   "outputs": [],
   "source": [
    "brands  =[\n",
    "              \"Audi\",\n",
    "              \"Hyundai Creta\",\n",
    "              \"Mahindra Scorpio\",\n",
    "              'Rolls Royce',\n",
    "              'Swift',\n",
    "              'Tata Safari',\n",
    "              'Toyota Innova'\n",
    "         ]"
   ]
  },
  {
   "cell_type": "code",
   "execution_count": 72,
   "metadata": {},
   "outputs": [],
   "source": [
    "def img2Hog(img):\n",
    "    v, buffer = cv2.imencode(\".jpg\", img)\n",
    "    img_str = base64.b64encode(buffer)\n",
    "    url = 'http://localhost:8080/api/gethog'\n",
    "    data = \"image data,\"+str.split(str(img_str),\"'\")[1]\n",
    "    response = requests.get(url, json={\"img\":data})\n",
    "    \n",
    "    return response.json()"
   ]
  },
  {
   "cell_type": "code",
   "execution_count": 73,
   "metadata": {},
   "outputs": [],
   "source": [
    "def getHog(path_dir):\n",
    "    response = []\n",
    "    Amount = 0\n",
    "    for filebrand in os.listdir(path_dir):\n",
    "        count =0\n",
    "        for img_filename in os.listdir(path_dir + '/' + filebrand):\n",
    "            img_file_name = path_dir + '/' + filebrand + \"/\" + img_filename\n",
    "            img = cv2.imread(img_file_name)\n",
    "            res = img2Hog(img)\n",
    "            hog = list(res[\"hog\"])\n",
    "            hog.append(brands.index(filebrand))\n",
    "            response.append(hog)\n",
    "            count = count + 1\n",
    "        print(str((filebrand))+': have \"'+str(count)+'\" cars.')\n",
    "        Amount = Amount + count\n",
    "    print('All amount: ',Amount)    \n",
    "    return response"
   ]
  },
  {
   "cell_type": "code",
   "execution_count": 74,
   "metadata": {},
   "outputs": [
    {
     "name": "stdout",
     "output_type": "stream",
     "text": [
      "Audi: have \"814\" cars.\n",
      "Hyundai Creta: have \"271\" cars.\n",
      "Mahindra Scorpio: have \"316\" cars.\n",
      "Rolls Royce: have \"311\" cars.\n",
      "Swift: have \"424\" cars.\n",
      "Tata Safari: have \"441\" cars.\n",
      "Toyota Innova: have \"775\" cars.\n",
      "All amount:  3352\n"
     ]
    }
   ],
   "source": [
    "list_train = getHog(train_dir)"
   ]
  },
  {
   "cell_type": "code",
   "execution_count": 75,
   "metadata": {},
   "outputs": [
    {
     "name": "stdout",
     "output_type": "stream",
     "text": [
      "Audi: have \"199\" cars.\n",
      "Hyundai Creta: have \"67\" cars.\n",
      "Mahindra Scorpio: have \"75\" cars.\n",
      "Rolls Royce: have \"74\" cars.\n",
      "Swift: have \"102\" cars.\n",
      "Tata Safari: have \"106\" cars.\n",
      "Toyota Innova: have \"190\" cars.\n",
      "All amount:  813\n"
     ]
    }
   ],
   "source": [
    "list_test = getHog(test_dir)"
   ]
  },
  {
   "cell_type": "code",
   "execution_count": 76,
   "metadata": {},
   "outputs": [],
   "source": [
    "# save data to pkl function\n",
    "def save_pkl(fileNames, dataPath):\n",
    "    pkl_filename = fileNames + \".pkl\"\n",
    "    \n",
    "    with open(pkl_filename, \"wb\") as pkl_file:\n",
    "        pickle.dump(dataPath, pkl_file)\n",
    "    print(\"data preparation is done\")\n",
    "        \n",
    "# load data to pkl function \n",
    "def load_pkl(fileName):\n",
    "    listDatas = pickle.load(open(fileName + '.pkl','rb'))\n",
    "    return listDatas"
   ]
  },
  {
   "cell_type": "code",
   "execution_count": 77,
   "metadata": {},
   "outputs": [
    {
     "name": "stdout",
     "output_type": "stream",
     "text": [
      "data preparation is done\n"
     ]
    }
   ],
   "source": [
    "# Call function savePkl and send train path folder\n",
    "save_pkl('train_cars',list_train)\n"
   ]
  },
  {
   "cell_type": "code",
   "execution_count": 78,
   "metadata": {},
   "outputs": [
    {
     "name": "stdout",
     "output_type": "stream",
     "text": [
      "data preparation is done\n"
     ]
    }
   ],
   "source": [
    "# Call function savePkl and send test path folder\n",
    "save_pkl('test_cars',list_test)"
   ]
  },
  {
   "cell_type": "code",
   "execution_count": 79,
   "metadata": {},
   "outputs": [
    {
     "name": "stdout",
     "output_type": "stream",
     "text": [
      "Data train :  3352\n"
     ]
    }
   ],
   "source": [
    "# Send train_cars.pkl file and call function load_pkl\n",
    "dataset_train = load_pkl('train_cars')\n",
    "print(\"Data train : \",len(dataset_train))"
   ]
  },
  {
   "cell_type": "code",
   "execution_count": 80,
   "metadata": {},
   "outputs": [
    {
     "name": "stdout",
     "output_type": "stream",
     "text": [
      "Data test :  813\n"
     ]
    }
   ],
   "source": [
    "# Send test_cars.pkl file and call function load_pkl\n",
    "dataset_test = load_pkl('test_cars')\n",
    "print(\"Data test : \",len(dataset_test))"
   ]
  },
  {
   "cell_type": "code",
   "execution_count": 81,
   "metadata": {},
   "outputs": [],
   "source": [
    "# Make listdata train become to array\n",
    "train_arr = np.array(dataset_train)\n",
    "x_train = train_arr[:,0:-1]\n",
    "y_train = train_arr[:,-1]\n"
   ]
  },
  {
   "cell_type": "code",
   "execution_count": 82,
   "metadata": {},
   "outputs": [],
   "source": [
    "# Make listdata test become to array\n",
    "test_arr = np.array(dataset_test)\n",
    "x_test = test_arr[:,0:-1]\n",
    "y_test = test_arr[:,-1]"
   ]
  },
  {
   "cell_type": "code",
   "execution_count": 83,
   "metadata": {},
   "outputs": [
    {
     "data": {
      "text/html": [
       "<style>#sk-container-id-3 {color: black;}#sk-container-id-3 pre{padding: 0;}#sk-container-id-3 div.sk-toggleable {background-color: white;}#sk-container-id-3 label.sk-toggleable__label {cursor: pointer;display: block;width: 100%;margin-bottom: 0;padding: 0.3em;box-sizing: border-box;text-align: center;}#sk-container-id-3 label.sk-toggleable__label-arrow:before {content: \"▸\";float: left;margin-right: 0.25em;color: #696969;}#sk-container-id-3 label.sk-toggleable__label-arrow:hover:before {color: black;}#sk-container-id-3 div.sk-estimator:hover label.sk-toggleable__label-arrow:before {color: black;}#sk-container-id-3 div.sk-toggleable__content {max-height: 0;max-width: 0;overflow: hidden;text-align: left;background-color: #f0f8ff;}#sk-container-id-3 div.sk-toggleable__content pre {margin: 0.2em;color: black;border-radius: 0.25em;background-color: #f0f8ff;}#sk-container-id-3 input.sk-toggleable__control:checked~div.sk-toggleable__content {max-height: 200px;max-width: 100%;overflow: auto;}#sk-container-id-3 input.sk-toggleable__control:checked~label.sk-toggleable__label-arrow:before {content: \"▾\";}#sk-container-id-3 div.sk-estimator input.sk-toggleable__control:checked~label.sk-toggleable__label {background-color: #d4ebff;}#sk-container-id-3 div.sk-label input.sk-toggleable__control:checked~label.sk-toggleable__label {background-color: #d4ebff;}#sk-container-id-3 input.sk-hidden--visually {border: 0;clip: rect(1px 1px 1px 1px);clip: rect(1px, 1px, 1px, 1px);height: 1px;margin: -1px;overflow: hidden;padding: 0;position: absolute;width: 1px;}#sk-container-id-3 div.sk-estimator {font-family: monospace;background-color: #f0f8ff;border: 1px dotted black;border-radius: 0.25em;box-sizing: border-box;margin-bottom: 0.5em;}#sk-container-id-3 div.sk-estimator:hover {background-color: #d4ebff;}#sk-container-id-3 div.sk-parallel-item::after {content: \"\";width: 100%;border-bottom: 1px solid gray;flex-grow: 1;}#sk-container-id-3 div.sk-label:hover label.sk-toggleable__label {background-color: #d4ebff;}#sk-container-id-3 div.sk-serial::before {content: \"\";position: absolute;border-left: 1px solid gray;box-sizing: border-box;top: 0;bottom: 0;left: 50%;z-index: 0;}#sk-container-id-3 div.sk-serial {display: flex;flex-direction: column;align-items: center;background-color: white;padding-right: 0.2em;padding-left: 0.2em;position: relative;}#sk-container-id-3 div.sk-item {position: relative;z-index: 1;}#sk-container-id-3 div.sk-parallel {display: flex;align-items: stretch;justify-content: center;background-color: white;position: relative;}#sk-container-id-3 div.sk-item::before, #sk-container-id-3 div.sk-parallel-item::before {content: \"\";position: absolute;border-left: 1px solid gray;box-sizing: border-box;top: 0;bottom: 0;left: 50%;z-index: -1;}#sk-container-id-3 div.sk-parallel-item {display: flex;flex-direction: column;z-index: 1;position: relative;background-color: white;}#sk-container-id-3 div.sk-parallel-item:first-child::after {align-self: flex-end;width: 50%;}#sk-container-id-3 div.sk-parallel-item:last-child::after {align-self: flex-start;width: 50%;}#sk-container-id-3 div.sk-parallel-item:only-child::after {width: 0;}#sk-container-id-3 div.sk-dashed-wrapped {border: 1px dashed gray;margin: 0 0.4em 0.5em 0.4em;box-sizing: border-box;padding-bottom: 0.4em;background-color: white;}#sk-container-id-3 div.sk-label label {font-family: monospace;font-weight: bold;display: inline-block;line-height: 1.2em;}#sk-container-id-3 div.sk-label-container {text-align: center;}#sk-container-id-3 div.sk-container {/* jupyter's `normalize.less` sets `[hidden] { display: none; }` but bootstrap.min.css set `[hidden] { display: none !important; }` so we also need the `!important` here to be able to override the default hidden behavior on the sphinx rendered scikit-learn.org. See: https://github.com/scikit-learn/scikit-learn/issues/21755 */display: inline-block !important;position: relative;}#sk-container-id-3 div.sk-text-repr-fallback {display: none;}</style><div id=\"sk-container-id-3\" class=\"sk-top-container\"><div class=\"sk-text-repr-fallback\"><pre>DecisionTreeClassifier()</pre><b>In a Jupyter environment, please rerun this cell to show the HTML representation or trust the notebook. <br />On GitHub, the HTML representation is unable to render, please try loading this page with nbviewer.org.</b></div><div class=\"sk-container\" hidden><div class=\"sk-item\"><div class=\"sk-estimator sk-toggleable\"><input class=\"sk-toggleable__control sk-hidden--visually\" id=\"sk-estimator-id-3\" type=\"checkbox\" checked><label for=\"sk-estimator-id-3\" class=\"sk-toggleable__label sk-toggleable__label-arrow\">DecisionTreeClassifier</label><div class=\"sk-toggleable__content\"><pre>DecisionTreeClassifier()</pre></div></div></div></div></div>"
      ],
      "text/plain": [
       "DecisionTreeClassifier()"
      ]
     },
     "execution_count": 83,
     "metadata": {},
     "output_type": "execute_result"
    }
   ],
   "source": [
    "from sklearn.metrics import confusion_matrix\n",
    "from sklearn.metrics import accuracy_score\n",
    "from sklearn.tree import DecisionTreeClassifier\n",
    "\n",
    "# Train data with Decision Tree\n",
    "dtc = DecisionTreeClassifier()\n",
    "dtc.fit(x_train,y_train)"
   ]
  },
  {
   "cell_type": "code",
   "execution_count": 84,
   "metadata": {},
   "outputs": [
    {
     "name": "stdout",
     "output_type": "stream",
     "text": [
      "Accuracy: 48.708487084870846\n",
      "Confusion Matrix : \n",
      " [[ 79  21  13  15  24  21  26]\n",
      " [  9  37   4   5   3   2   7]\n",
      " [ 11   5  26   5   5   9  14]\n",
      " [ 23   6   8  15   6   7   9]\n",
      " [  9  10   5   5  53   2  18]\n",
      " [ 16   3   3   5   5  66   8]\n",
      " [ 24  15   4   9  12   6 120]]\n"
     ]
    }
   ],
   "source": [
    "# Check how good data is it \n",
    "y_pred = dtc.predict(x_test)\n",
    "print(\"Accuracy:\",accuracy_score(y_test, y_pred)*100)\n",
    "print(\"Confusion Matrix : \\n\",confusion_matrix(y_test,y_pred))"
   ]
  },
  {
   "cell_type": "code",
   "execution_count": 85,
   "metadata": {},
   "outputs": [],
   "source": [
    "# Save model file with pickle\n",
    "path_model ='carbrandmodel.pkl'\n",
    "pickle.dump(clf, open(path_model,'wb'))"
   ]
  }
 ],
 "metadata": {
  "kernelspec": {
   "display_name": "env",
   "language": "python",
   "name": "python3"
  },
  "language_info": {
   "codemirror_mode": {
    "name": "ipython",
    "version": 3
   },
   "file_extension": ".py",
   "mimetype": "text/x-python",
   "name": "python",
   "nbconvert_exporter": "python",
   "pygments_lexer": "ipython3",
   "version": "3.11.4"
  },
  "orig_nbformat": 4
 },
 "nbformat": 4,
 "nbformat_minor": 2
}
